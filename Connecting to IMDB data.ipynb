{
 "cells": [
  {
   "cell_type": "code",
   "execution_count": 1,
   "metadata": {},
   "outputs": [
    {
     "name": "stdout",
     "output_type": "stream",
     "text": [
      "Lana Wachowski\n",
      "Lilly Wachowski\n",
      "['akas', 'animation department', 'art department', 'art directors', 'aspect ratio', 'assistant directors', 'box office', 'camera department', 'canonical title', 'cast', 'casting department', 'casting directors', 'certificates', 'cinematographers', 'color info', 'composers', 'costume departmen', 'costume designers', 'countries', 'country codes', 'cover url', 'director', 'directors', 'distributors', 'editorial department', 'editors', 'full-size cover url', 'genres', 'kind', 'language codes', 'languages', 'location management', 'long imdb canonical title', 'long imdb title', 'make up department', 'miscellaneous', 'music department', 'original air date', 'other companies', 'plot', 'plot outline', 'producers', 'production companies', 'production designers', 'production managers', 'rating', 'runtimes', 'script department', 'set decorators', 'smart canonical title', 'smart long imdb canonical title', 'sound department', 'sound mix', 'special effects', 'special effects companies', 'stunts', 'synopsis', 'title', 'top 250 rank', 'transportation department', 'visual effects', 'votes', 'writer', 'writers', 'year']\n",
      "['airing', 'akas', 'alternate versions', 'awards', 'connections', 'crazy credits', 'critic reviews', 'episodes', 'external reviews', 'external sites', 'faqs', 'full credits', 'goofs', 'keywords', 'locations', 'main', 'misc sites', 'news', 'official sites', 'parents guide', 'photo sites', 'plot', 'quotes', 'release dates', 'release info', 'reviews', 'sound clips', 'soundtrack', 'synopsis', 'taglines', 'technical', 'trivia', 'tv schedule', 'video clips', 'vote details']\n",
      "['tech']\n",
      "{'runtime': ['2 hr 16 min (136 min)'], 'sound mix': ['DTS (Digital DTS Sound)', 'Dolby Digital', 'SDDS', 'Dolby Atmos'], 'color': ['Color'], 'aspect ratio': ['2.39 : 1'], 'camera': ['Panavision Panaflex Platinum, Panavision Primo Lenses', 'Panavision Panastar, Panavision Primo Lenses', 'Photosonics Camera'], 'laboratory': ['Technicolor, Hollywood (CA), USA (prints)', 'Atlab Film Laboratory Service, Sydney, Australia (color)'], 'film length': ['3,735 m (Sweden)'], 'negative format': ['35 mm (also horizontal) (Kodak Vision 200T 5274, Vision 500T 5279, Vision 800T 5289)'], 'cinematographic process': ['Super 35', 'VistaVision (effects shots)'], 'printed film format': ['35 mm (anamorphic) (Kodak Vision 2383)']}\n"
     ]
    }
   ],
   "source": [
    "from imdb import IMDb\n",
    "\n",
    "# create an instance of the IMDb class\n",
    "ia = IMDb()\n",
    "\n",
    "# get a movie and print its director(s)\n",
    "the_matrix = ia.get_movie('0133093')\n",
    "for director in the_matrix['directors']:\n",
    "    print(director['name'])\n",
    "\n",
    "# show all information that are currently available for a movie\n",
    "print(sorted(the_matrix.keys()))\n",
    "\n",
    "# show all information sets that can be fetched for a movie\n",
    "print(ia.get_movie_infoset())\n",
    "\n",
    "# update a Movie object with more information\n",
    "ia.update(the_matrix, ['technical'])\n",
    "# show which keys were added by the information set\n",
    "print(the_matrix.infoset2keys['technical'])\n",
    "# print one of the new keys\n",
    "print(the_matrix.get('tech'))\n"
   ]
  },
  {
   "cell_type": "code",
   "execution_count": 3,
   "metadata": {},
   "outputs": [],
   "source": [
    "import pandas as pd\n",
    "import numpy as np\n",
    "import re\n",
    "import lxml\n",
    "\n",
    "from bs4 import BeautifulSoup\n",
    "from requests import get\n",
    "%matplotlib inline"
   ]
  },
  {
   "cell_type": "code",
   "execution_count": null,
   "metadata": {},
   "outputs": [],
   "source": []
  },
  {
   "cell_type": "code",
   "execution_count": 7,
   "metadata": {},
   "outputs": [],
   "source": [
    "url= \"https://www.imdb.com/search/title/?count=100&title_type=feature,tv_series&ref_=nv_wl_img_2\""
   ]
  },
  {
   "cell_type": "code",
   "execution_count": null,
   "metadata": {},
   "outputs": [],
   "source": []
  },
  {
   "cell_type": "code",
   "execution_count": 8,
   "metadata": {},
   "outputs": [],
   "source": [
    "page = get(url)"
   ]
  },
  {
   "cell_type": "code",
   "execution_count": null,
   "metadata": {},
   "outputs": [],
   "source": []
  },
  {
   "cell_type": "code",
   "execution_count": 9,
   "metadata": {},
   "outputs": [],
   "source": [
    "\n",
    "soup = BeautifulSoup(page.content, 'lxml')"
   ]
  },
  {
   "cell_type": "code",
   "execution_count": null,
   "metadata": {},
   "outputs": [],
   "source": []
  },
  {
   "cell_type": "code",
   "execution_count": 10,
   "metadata": {},
   "outputs": [],
   "source": [
    "\n",
    "content = soup.find(id=\"main\")"
   ]
  },
  {
   "cell_type": "code",
   "execution_count": null,
   "metadata": {},
   "outputs": [],
   "source": []
  },
  {
   "cell_type": "code",
   "execution_count": 17,
   "metadata": {},
   "outputs": [],
   "source": [
    "articleTitle = soup.find(\"h1\", class_=\"header\").text.replace(\"\\n\",\"\")\n",
    "\n",
    "movieFrame = content.find_all(\"div\", class_=\"lister-item mode-advanced\")\n",
    "\n",
    "movieFirstLine = movieFrame[0].find(\"h3\", class_=\"lister-item-header\")\n",
    "\n",
    "movieTitle = movieFirstLine.find(\"a\").text\n",
    " \n",
    "movieDate = re.sub(r\"[()]\",\"\", movieFirstLine.find_all(\"span\")[-1].text)\n",
    " \n",
    "movieRunTime = movieFrame[0].find(\"span\", class_=\"runtime\").text[:-4]\n",
    " \n",
    "movieGenre = movieFrame[0].find(\"span\", class_=\"genre\").text.rstrip().replace(\"\\n\",\"\").split(\",\")\n",
    " \n",
    "movieRating = movieFrame[0].find(\"strong\").text\n",
    "\n",
    "movieCast = movieFrame[0].find(\"p\", class_=\"\")\n",
    "\n",
    "movieDesc = movieFrame[0].find_all(\"p\", class_=\"text-muted\")[-1].text.lstrip()"
   ]
  },
  {
   "cell_type": "code",
   "execution_count": 18,
   "metadata": {},
   "outputs": [
    {
     "ename": "AttributeError",
     "evalue": "'NoneType' object has no attribute 'text'",
     "output_type": "error",
     "traceback": [
      "\u001b[1;31m---------------------------------------------------------------------------\u001b[0m",
      "\u001b[1;31mAttributeError\u001b[0m                            Traceback (most recent call last)",
      "\u001b[1;32m<ipython-input-18-2bf0fea8ab4d>\u001b[0m in \u001b[0;36m<module>\u001b[1;34m\u001b[0m\n\u001b[1;32m----> 1\u001b[1;33m \u001b[0mmovieScore\u001b[0m \u001b[1;33m=\u001b[0m \u001b[0mmovieFrame\u001b[0m\u001b[1;33m[\u001b[0m\u001b[1;36m0\u001b[0m\u001b[1;33m]\u001b[0m\u001b[1;33m.\u001b[0m\u001b[0mfind\u001b[0m\u001b[1;33m(\u001b[0m\u001b[1;34m\"span\"\u001b[0m\u001b[1;33m,\u001b[0m \u001b[0mclass_\u001b[0m\u001b[1;33m=\u001b[0m\u001b[1;34m\"metascore unfavorable\"\u001b[0m\u001b[1;33m)\u001b[0m\u001b[1;33m.\u001b[0m\u001b[0mtext\u001b[0m\u001b[1;33m.\u001b[0m\u001b[0mrstrip\u001b[0m\u001b[1;33m(\u001b[0m\u001b[1;33m)\u001b[0m\u001b[1;33m\u001b[0m\u001b[1;33m\u001b[0m\u001b[0m\n\u001b[0m\u001b[0;32m      2\u001b[0m \u001b[1;33m\u001b[0m\u001b[0m\n\u001b[0;32m      3\u001b[0m \u001b[1;33m\u001b[0m\u001b[0m\n\u001b[0;32m      4\u001b[0m \u001b[1;33m\u001b[0m\u001b[0m\n",
      "\u001b[1;31mAttributeError\u001b[0m: 'NoneType' object has no attribute 'text'"
     ]
    }
   ],
   "source": [
    "movieScore = movieFrame[0].find(\"span\", class_=\"metascore unfavorable\").text.rstrip()\n",
    " \n",
    "\n",
    " \n"
   ]
  },
  {
   "cell_type": "code",
   "execution_count": 19,
   "metadata": {},
   "outputs": [],
   "source": [
    "\n",
    "#Movie Director and Movie Stars\n",
    "try:\n",
    "    casts = movieCast.text.replace(\"\\n\",\"\").split('|')\n",
    "    casts = [x.strip() for x in casts]\n",
    "    casts = [casts[i].replace(j, \"\") for i,j in enumerate([\"Director:\", \"Stars:\"])]\n",
    "    movieDirector = casts[0]\n",
    "    movieStars = [x.strip() for x in casts[1].split(\",\")]\n",
    "except:\n",
    "    casts = movieCast.text.replace(\"\\n\",\"\").strip()\n",
    "    movieDirector = np.nan\n",
    "    movieStars = [x.strip() for x in casts.split(\",\")]"
   ]
  },
  {
   "cell_type": "code",
   "execution_count": 20,
   "metadata": {},
   "outputs": [],
   "source": [
    "\n",
    "movieNumbers = movieFrame[0].find_all(\"span\", attrs={\"name\": \"nv\"})"
   ]
  },
  {
   "cell_type": "code",
   "execution_count": 21,
   "metadata": {},
   "outputs": [],
   "source": [
    "if len(movieNumbers) == 2:\n",
    "    movieVotes = movieNumbers[0].text\n",
    "    movieGross = movieNumbers[1].text\n",
    "else:\n",
    "    movieVotes = movieNumbers[0].text\n",
    "    movieGross = np.nan\n"
   ]
  },
  {
   "cell_type": "code",
   "execution_count": 30,
   "metadata": {},
   "outputs": [],
   "source": [
    "\n",
    "import lxml\n",
    "import re\n",
    "import numpy as np\n",
    "import pandas as pd\n",
    "\n",
    "from bs4 import BeautifulSoup\n",
    "from requests import get\n",
    "\n",
    "url1 = \"https://www.imdb.com/search/title/?count=100&title_type=feature,tv_series&ref_=nv_wl_img_2\"\n",
    "\n",
    "class IMDB(object):\n",
    "    \"\"\"docstring for IMDB\"\"\"\n",
    "    def __init__(self, url):\n",
    "        super(IMDB, self).__init__()\n",
    "        page = get(url)\n",
    "\n",
    "        self.soup = BeautifulSoup(page.content, 'lxml')\n",
    "\n",
    "    def articleTitle(self):\n",
    "        return self.soup.find(\"h1\", class_=\"header\").text.replace(\"\\n\",\"\")\n",
    "\n",
    "    def bodyContent(self):\n",
    "        content = self.soup.find(id=\"main\")\n",
    "        return content.find_all(\"div\", class_=\"lister-item mode-advanced\")\n",
    "\n",
    "    def movieData(self):\n",
    "        movieFrame = self.bodyContent()\n",
    "        movieTitle = []\n",
    "        movieDate = []\n",
    "        movieRunTime = []\n",
    "        movieGenre = []\n",
    "        movieRating = []\n",
    "        movieScore = []\n",
    "        movieDescription = []\n",
    "        movieDirector = []\n",
    "        movieStars = []\n",
    "        movieVotes = []\n",
    "        movieGross = []\n",
    "        for movie in movieFrame:\n",
    "            movieFirstLine = movie.find(\"h3\", class_=\"lister-item-header\")\n",
    "            movieTitle.append(movieFirstLine.find(\"a\").text)\n",
    "            movieDate.append(re.sub(r\"[()]\",\"\", movieFirstLine.find_all(\"span\")[-1].text))\n",
    "            try:\n",
    "                movieRunTime.append(movie.find(\"span\", class_=\"runtime\").text[:-4])\n",
    "            except:\n",
    "                movieRunTime.append(np.nan)\n",
    "            movieGenre.append(movie.find(\"span\", class_=\"genre\").text.rstrip().replace(\"\\n\",\"\").split(\",\"))\n",
    "            try:\n",
    "                movieRating.append(movie.find(\"strong\").text)\n",
    "            except:\n",
    "                movieRating.append(np.nan)\n",
    "            try:\n",
    "                movieScore.append(movie.find(\"span\", class_=\"metascore unfavorable\").text.rstrip())\n",
    "            except:\n",
    "                movieScore.append(np.nan)\n",
    "            movieDescription.append(movie.find_all(\"p\", class_=\"text-muted\")[-1].text.lstrip())\n",
    "            movieCast = movie.find(\"p\", class_=\"\")\n",
    "\n",
    "            try:\n",
    "                casts = movieCast.text.replace(\"\\n\",\"\").split('|')\n",
    "                casts = [x.strip() for x in casts]\n",
    "                casts = [casts[i].replace(j, \"\") for i,j in enumerate([\"Director:\", \"Stars:\"])]\n",
    "                movieDirector.append(casts[0])\n",
    "                movieStars.append([x.strip() for x in casts[1].split(\",\")])\n",
    "            except:\n",
    "                casts = movieCast.text.replace(\"\\n\",\"\").strip()\n",
    "                movieDirector.append(np.nan)\n",
    "                movieStars.append([x.strip() for x in casts.split(\",\")])\n",
    "\n",
    "            movieNumbers = movie.find_all(\"span\", attrs={\"name\": \"nv\"})\n",
    "\n",
    "            if len(movieNumbers) == 2:\n",
    "                movieVotes.append(movieNumbers[0].text)\n",
    "                movieGross.append(movieNumbers[1].text)\n",
    "            elif len(movieNumbers) == 1:\n",
    "                movieVotes.append(movieNumbers[0].text)\n",
    "                movieGross.append(np.nan)\n",
    "            else:\n",
    "                movieVotes.append(np.nan)\n",
    "                movieGross.append(np.nan)\n",
    "\n",
    "        movieData = [movieTitle, movieDate, movieRunTime, movieGenre, movieRating, movieScore, movieDescription,\n",
    "                            movieDirector, movieStars, movieVotes, movieGross]\n",
    "        return movieData"
   ]
  },
  {
   "cell_type": "code",
   "execution_count": 31,
   "metadata": {},
   "outputs": [
    {
     "name": "stdout",
     "output_type": "stream",
     "text": [
      "Subject:  Feature Film/TV Series(Sorted by Popularity Ascending) \n",
      "['The Mandalorian', 'The Irishman', 'Marriage Story', 'Wonder Woman 1984', '6 Underground', 'Ghostbusters: Afterlife', 'Knives Out', 'Star Wars: Episode IX - The Rise of Skywalker', 'Jumanji: The Next Level', 'V-Wars', 'The Marvelous Mrs. Maisel', 'Watchmen', 'Once Upon a Time... in Hollywood', 'Virgin River', 'Free Guy', 'The Witcher', 'His Dark Materials', 'Vikings', 'The Crown', 'Frozen 2', 'Rick and Morty', 'Joker', 'Ad Astra', 'See', 'Bombshell', 'Arrow', 'Richard Jewell', 'Mr. Robot', 'Doctor Sleep', 'Reprisal', 'Cats', 'No Time to Die', 'Gisaengchung', 'Little Women', 'The Expanse', 'The Flash', 'Supergirl', 'Hustlers', 'Ford v. Ferrari', 'Game of Thrones', 'Black Christmas', '1917', 'Batwoman', 'Silicon Valley', 'Home Alone', 'Code 8', 'Peaky Blinders', 'Uncut Gems', 'In the Heights', 'Love Actually', 'Klaus', 'The Morning Show', 'Supernatural', 'The Walking Dead', 'The Boys', \"National Lampoon's Christmas Vacation\", 'Ready or Not', 'Shameless', 'The Blacklist', 'It Chapter Two', 'Last Christmas', 'Friends', 'Jumanji: Welcome to the Jungle', \"Grey's Anatomy\", 'The Office', 'Black Widow', 'Servant', 'Outlander', 'Castle Rock', 'Stranger Things', 'Avengers: Endgame', 'Jack Ryan', 'Fuller House', 'The Grinch', 'Rambo: Last Blood', 'Lucifer', 'The Rookie', 'Jojo Rabbit', 'Star Wars: The Last Jedi', 'Black Mirror', 'Birds of Prey: And the Fantabulous Emancipation of One Harley Quinn', 'Breaking Bad', 'A Beautiful Day in the Neighborhood', 'Mulan', 'Legends of Tomorrow', 'The Man in the High Castle', 'La Casa de Papel', 'Elf', 'Dark Waters', 'The King', 'American Horror Story', \"Charlie's Angels\", 'The Report', 'Law & Order: Special Victims Unit', 'A Hidden Life', 'Midsommar', 'Home for Christmas', 'Judy', 'Riverdale', 'Ghostbusters']\n",
      "['2019– ', '2019', '2019', '2020', '2019', '2020', '2019', '2019', '2019', '2019– ', '2017– ', '2019– ', '2019', '2019– ', '2020', '2019– ', '2019– ', '2013– ', '2016– ', '2019', '2013– ', '2019', '2019', '2019– ', '2019', '2012– ', '2019', '2015– ', '2019', '2019– ', '2019', '2020', '2019', '2019', '2015– ', '2014– ', '2015– ', '2019', '2019', '2011–2019', '2019', '2019', '2019– ', '2014–2019', '1990', '2019', '2013– ', '2019', '2020', '2003', '2019', 'I 2019– ', '2005– ', '2010– ', '2019– ', '1989', 'I 2019', '2011– ', '2013– ', '2019', '2019', '1994–2004', '2017', '2005– ', '2005–2013', '2020', '2019– ', '2014– ', '2018– ', '2016– ', '2019', '2018– ', '2016– ', '2018', '2019', '2015– ', '2018– ', '2019', '2017', '2011– ', '2020', '2008–2013', '2019', '2020', '2016– ', '2015–2019', '2017– ', '2003', '2019', 'I 2019', '2011– ', '2019', 'I 2019', '1999– ', '2019', 'I 2019', '2019– ', 'II 2019', '2017– ', '1984']\n",
      "['30', '209', '137', nan, '127', nan, '130', '141', '123', '60', '57', '60', '161', '44', nan, '60', '60', '44', '58', '103', '23', '122', '123', '60', '108', '42', '131', '49', '152', nan, '110', nan, '132', '134', '60', '43', '43', '110', '152', '57', '92', '119', '45', '28', '103', '98', '60', '135', nan, '135', '96', '60', '44', '44', '60', '97', '95', '46', '43', '169', '103', '22', '119', '41', '22', nan, '30', '64', '60', '51', '181', '60', '30', '85', '89', '42', '43', '108', '152', '60', nan, '49', '109', nan, '42', '60', '70', '97', '126', '140', '60', '118', '119', '60', '174', '147', nan, '118', '45', '105']\n",
      "[['Action', ' Adventure', ' Sci-Fi'], ['Biography', ' Crime', ' Drama'], ['Comedy', ' Drama', ' Romance'], ['Action', ' Adventure', ' Fantasy'], ['Action', ' Adventure', ' Comedy'], ['Action', ' Comedy', ' Drama'], ['Comedy', ' Crime', ' Drama'], ['Action', ' Adventure', ' Fantasy'], ['Action', ' Adventure', ' Comedy'], ['Drama', ' Horror', ' Sci-Fi'], ['Comedy', ' Drama'], ['Action', ' Drama', ' Mystery'], ['Comedy', ' Drama'], ['Drama'], ['Action', ' Adventure', ' Comedy'], ['Action', ' Adventure', ' Drama'], ['Adventure', ' Drama', ' Family'], ['Action', ' Adventure', ' Drama'], ['Drama', ' History'], ['Animation', ' Adventure', ' Comedy'], ['Animation', ' Adventure', ' Comedy'], ['Crime', ' Drama', ' Thriller'], ['Adventure', ' Drama', ' Mystery'], ['Action', ' Drama', ' Sci-Fi'], ['Biography', ' Drama'], ['Action', ' Adventure', ' Crime'], ['Drama'], ['Crime', ' Drama', ' Thriller'], ['Drama', ' Fantasy', ' Horror'], ['Crime', ' Drama', ' Thriller'], ['Comedy', ' Drama', ' Family'], ['Action', ' Adventure', ' Thriller'], ['Comedy', ' Drama', ' Thriller'], ['Drama', ' Romance'], ['Drama', ' Mystery', ' Sci-Fi'], ['Action', ' Adventure', ' Drama'], ['Action', ' Adventure', ' Drama'], ['Comedy', ' Crime', ' Drama'], ['Action', ' Biography', ' Drama'], ['Action', ' Adventure', ' Drama'], ['Horror', ' Mystery', ' Thriller'], ['Drama', ' War'], ['Action', ' Adventure', ' Crime'], ['Comedy'], ['Comedy', ' Family'], ['Crime', ' Drama', ' Sci-Fi'], ['Crime', ' Drama'], ['Comedy', ' Crime', ' Drama'], ['Drama', ' Music', ' Musical'], ['Comedy', ' Drama', ' Romance'], ['Animation', ' Adventure', ' Comedy'], ['Drama'], ['Drama', ' Fantasy', ' Horror'], ['Drama', ' Horror', ' Thriller'], ['Action', ' Comedy', ' Crime'], ['Comedy'], ['Comedy', ' Horror', ' Mystery'], ['Comedy', ' Drama'], ['Crime', ' Drama', ' Mystery'], ['Drama', ' Fantasy', ' Horror'], ['Comedy', ' Drama', ' Romance'], ['Comedy', ' Romance'], ['Action', ' Adventure', ' Comedy'], ['Drama', ' Romance'], ['Comedy'], ['Action', ' Adventure', ' Sci-Fi'], ['Drama', ' Horror', ' Thriller'], ['Drama', ' Fantasy', ' Romance'], ['Drama', ' Fantasy', ' Horror'], ['Drama', ' Fantasy', ' Horror'], ['Action', ' Adventure', ' Drama'], ['Action', ' Drama', ' Thriller'], ['Comedy', ' Family'], ['Animation', ' Family', ' Fantasy'], ['Action', ' Adventure', ' Thriller'], ['Crime', ' Drama', ' Fantasy'], ['Comedy', ' Crime', ' Drama'], ['Comedy', ' Drama', ' War'], ['Action', ' Adventure', ' Fantasy'], ['Drama', ' Sci-Fi', ' Thriller'], ['Action', ' Adventure', ' Crime'], ['Crime', ' Drama', ' Thriller'], ['Biography', ' Drama'], ['Action', ' Adventure', ' Drama'], ['Action', ' Adventure', ' Drama'], ['Drama', ' Sci-Fi', ' Thriller'], ['Action', ' Crime', ' Mystery'], ['Comedy', ' Family', ' Fantasy'], ['Biography', ' Drama', ' History'], ['Biography', ' Drama', ' History'], ['Drama', ' Horror', ' Thriller'], ['Action', ' Adventure', ' Comedy'], ['Biography', ' Crime', ' Drama'], ['Crime', ' Drama', ' Mystery'], ['Biography', ' Drama', ' Romance'], ['Drama', ' Horror', ' Mystery'], ['Comedy', ' Drama'], ['Biography', ' Drama', ' Romance'], ['Crime', ' Drama', ' Mystery'], ['Action', ' Comedy', ' Fantasy']]\n",
      "['9.0', '8.2', '8.2', nan, '6.2', nan, '8.1', '6.8', '7.0', '6.2', '8.8', '7.9', '7.8', '7.7', nan, '9.7', '8.3', '8.6', '8.7', '7.3', '9.3', '8.7', '6.8', '7.7', '5.6', '7.6', '7.7', '8.5', '7.6', '7.6', '4.2', nan, '8.6', '7.7', '8.5', '7.8', '6.3', '6.4', '8.3', '9.4', '3.2', '8.7', '3.4', '8.5', '7.6', '6.2', '8.8', '8.1', nan, '7.6', '8.3', '8.2', '8.4', '8.2', '8.8', '7.6', '6.9', '8.6', '8.0', '6.7', '6.6', '8.9', '6.9', '7.6', '8.8', nan, '8.1', '8.4', '7.7', '8.8', '8.5', '8.1', '6.8', '6.3', '6.3', '8.2', '8.0', '8.1', '7.1', '8.8', nan, '9.5', '7.9', nan, '6.8', '8.1', '8.5', '6.9', '7.6', '7.3', '8.1', '4.0', '7.2', '8.0', '7.6', '7.2', '7.8', '7.1', '7.1', '7.8']\n",
      "[nan, nan, nan, nan, nan, nan, nan, nan, nan, nan, nan, nan, nan, nan, nan, nan, nan, nan, nan, nan, nan, nan, nan, nan, nan, nan, nan, nan, nan, nan, '31', nan, nan, nan, nan, nan, nan, nan, nan, nan, nan, nan, nan, nan, nan, nan, nan, nan, nan, nan, nan, nan, nan, nan, nan, nan, nan, nan, nan, nan, nan, nan, nan, nan, nan, nan, nan, nan, nan, nan, nan, nan, nan, nan, '26', nan, nan, nan, nan, nan, nan, nan, nan, nan, nan, nan, nan, nan, nan, nan, nan, nan, nan, nan, nan, nan, nan, nan, nan, nan]\n",
      "['The travels of a lone bounty hunter in the outer reaches of the galaxy, far from the authority of the New Republic.', 'A mob hitman recalls his possible involvement with the slaying of Jimmy Hoffa.', \"Noah Baumbach's incisive and compassionate look at a marriage breaking up and a family staying together.\", \"Plot unknown. A sequel to the 2017 superhero film 'Wonder Woman.'\", \"Meet a new kind of action hero. Six untraceable agents, totally off the grid. They've buried their pasts so they can change the future.\", 'When a single mom and her two kids arrive in a small town, they begin to discover their connection to the original Ghostbusters and the secret legacy their grandfather left behind.', 'A detective investigates the death of a patriarch of an eccentric, combative family.', 'The surviving Resistance faces the First Order once more in the final chapter of the Skywalker saga.', \"In Jumanji: The Next Level, the gang is back but the game has changed. As they return to rescue one of their own, the players will have to brave parts unknown from arid deserts to snowy mountains, to escape the world's most dangerous game.\", 'Dr. Luther Swann enters a world of horror when a virus is released from ice melting due to climate change.', 'A housewife in the 1960s decides to become a stand-up comic.', 'Set in an alternate history where masked vigilantes are treated as outlaws, Watchmen embraces the nostalgia of the original groundbreaking graphic novel of the same name, while attempting to break new ground of its own.', \"A faded television actor and his stunt double strive to achieve fame and success in the film industry during the final years of Hollywood's Golden Age in 1969 Los Angeles.\", \"Centers around Melinda Monroe, who answers an ad to work as a nurse practitioner in the remote California town of Virgin River and soon discovers that small-town living isn't quite as ...                See full summary\\xa0»\\n\", \"A bank teller discovers that he's actually an NPC inside a brutal, open world video game.\", 'Geralt of Rivia, a solitary monster hunter, struggles to find his place in a world where people often prove more wicked than beasts.', \"A young girl is destined to liberate her world from the grip of the Magisterium which represses people's ties to magic and their animal spirits known as daemons.\", 'Vikings transports us to the brutal and mysterious world of Ragnar Lothbrok, a Viking warrior and farmer who yearns to explore - and raid - the distant shores across the ocean.', \"Follows the political rivalries and romance of Queen Elizabeth II's reign and the events that shaped the second half of the twentieth century.\", \"Anna, Elsa, Kristoff, Olaf and Sven leave Arendelle to travel to an ancient, autumn-bound forest of an enchanted land. They set out to find the origin of Elsa's powers in order to save their kingdom.\", 'An animated series that follows the exploits of a super scientist and his not-so-bright grandson.', 'In Gotham City, mentally troubled comedian Arthur Fleck is disregarded and mistreated by society. He then embarks on a downward spiral of revolution and bloody crime. This path brings him face-to-face with his alter-ego: the Joker.', 'Astronaut Roy McBride undertakes a mission across an unforgiving solar system to uncover the truth about his missing father and his doomed expedition that now, 30 years later, threatens the universe.', 'Far in a dystopian future, the human race has lost the sense of sight, and society has had to find new ways to interact, build, hunt, and to survive. All of that is challenged when a set of twins is born with sight.', 'A group of women decide to take on Fox News head Roger Ailes and the toxic atmosphere he presided over at the network.', 'Spoiled billionaire playboy Oliver Queen is missing and presumed dead when his yacht is lost at sea. He returns five years later a changed man, determined to clean up the city as a hooded vigilante armed with a bow.', 'American security guard Richard Jewell (Paul Walter Hauser) saves thousands of lives from an exploding bomb at the 1996 Olympics, but is vilified by journalists and the press who falsely reported that he was a terrorist.', 'Elliot, a brilliant but highly unstable young cyber-security engineer and vigilante hacker, becomes a key figure in a complex game of global dominance when he and his shadowy allies try to take down the corrupt corporation he works for.', 'Years following the events of \"The Shining,\" a now-adult Dan Torrance must protect a young girl with similar powers from a cult known as The True Knot, who prey on children with powers to remain immortal.', 'A woman sets out for revenge against the gang that tried to kill her.', 'A tribe of cats called the Jellicles must decide yearly which one will ascend to the Heaviside Layer and come back to a new Jellicle life.', 'Bond has left active service. His peace is short-lived when his old friend Felix Leiter from the CIA turns up asking for help, leading Bond onto the trail of a mysterious villain armed with dangerous new technology.', 'All unemployed, Ki-taek and his family take peculiar interest in the wealthy and glamorous Parks, as they ingratiate themselves into their lives and get entangled in an unexpected incident.', 'Four sisters come of age in America in the aftermath of the Civil War.', \"A police detective in the asteroid belt, the first officer of an interplanetary ice freighter, and an earth-bound United Nations executive slowly discover a vast conspiracy that threatens the Earth's rebellious colony on the asteroid belt.\", \"After being struck by lightning, Barry Allen wakes up from his coma to discover he's been given the power of super speed, becoming the Flash, fighting crime in Central City.\", \"The adventures of Superman's cousin in her own superhero career.\", 'Inspired by the viral New York Magazine article, Hustlers follows a crew of savvy former strip club employees who band together to turn the tables on their Wall Street clients.', 'American car designer Carroll Shelby and driver Ken Miles battle corporate interference, the laws of physics and their own personal demons to build a revolutionary race car for Ford and challenge Ferrari at the 24 Hours of Le Mans in 1966.', 'Nine noble families fight for control over the mythical lands of Westeros, while an ancient enemy returns after being dormant for thousands of years.', 'A group of female students are stalked by a stranger during their Christmas break. That is until the young sorority pledges discover that the killer is part of an underground college conspiracy.', \"Two young British privates during the First World War are given an impossible mission: deliver a message deep in enemy territory that will stop 1,600 men, and one of the soldier's brothers, from walking straight into a deadly trap.\", 'Kate Kane seeks justice for Gotham City as Batwoman.', 'Follows the struggle of Richard Hendricks, a Silicon Valley engineer trying to build his own company called Pied Piper.', 'An eight-year-old troublemaker must protect his house from a pair of burglars when he is accidentally left home alone by his family during Christmas vacation.', 'A super-powered construction worker falls in with a group of criminals in order to raise the funds to help his ill mother.', 'A gangster family epic set in 1919 Birmingham, England; centered on a gang who sew razor blades in the peaks of their caps, and their fierce boss Tommy Shelby.', 'A charismatic New York City jeweler always on the lookout for the next big score, makes a series of high-stakes bets that could lead to the windfall of a lifetime. Howard must perform a precarious high-wire act, balancing business, family, and encroaching adversaries on all sides, in his relentless pursuit of the ultimate win.', \"A feature version of the Broadway musical, in which a bodega owner has mixed feelings about closing his store and retiring to the Dominican Republic after inheriting his grandmother's fortune.\", 'Follows the lives of eight very different couples in dealing with their love lives in various loosely interrelated tales all set during a frantic month before Christmas in London, England.', \"A simple act of kindness always sparks another, even in a frozen, faraway place. When Smeerensburg's new postman, Jesper, befriends toymaker Klaus, their gifts melt an age-old feud and deliver a sleigh full of holiday traditions.\", 'An inside look at the lives of the people who help America wake up in the morning, exploring the unique challenges faced by the men and women who carry out this daily televised ritual.', \"Two brothers follow their father's footsteps as hunters, fighting evil supernatural beings of many kinds, including monsters, demons, and gods that roam the earth.\", 'Sheriff Deputy Rick Grimes wakes up from a coma to learn the world is in ruins, and must lead a group of survivors to stay alive.', 'A group of vigilantes set out to take down corrupt superheroes who abuse their superpowers.', \"The Griswold family's plans for a big family Christmas predictably turn into a big disaster.\", \"A bride's wedding night takes a sinister turn when her eccentric new in-laws force her to take part in a terrifying game.\", 'A scrappy, fiercely loyal Chicago family makes no apologies.', 'A new FBI profiler, Elizabeth Keen, has her entire life uprooted when a mysterious criminal, Raymond Reddington, who has eluded capture for decades, turns himself in and insists on speaking only to her.', 'Twenty-seven years after their first encounter with the terrifying Pennywise, the Losers Club have grown up and moved away, until a devastating phone call brings them back.', 'Kate is a young woman subscribed to bad decisions. Working as an elf in a year round Christmas store is not good for the wannabe singer. However, she meets Tom there. Her life takes a new turn. For Kate, it seems too good to be true.', 'Follows the personal and professional lives of six twenty to thirty-something-year-old friends living in Manhattan.', 'Four teenagers are sucked into a magical video game, and the only way they can escape is to work together to finish the game.', 'A drama centered on the personal and professional lives of five surgical interns and their supervisors.', 'A mockumentary on a group of typical office workers, where the workday consists of ego clashes, inappropriate behavior, and tedium.', 'A film about Natasha Romanoff in her quests between the films Civil War and Infinity War.', 'A Philadelphia couple is in mourning after an unspeakable tragedy creates a rift in their marriage and opens the door for a mysterious force to enter their home.', 'An English combat nurse from 1945 is mysteriously swept back in time to 1743.', 'Based on the stories of Stephen King, the series intertwines characters and themes from the fictional town of Castle Rock.', 'When a young boy disappears, his mother, a police chief, and his friends must confront terrifying supernatural forces in order to get him back.', \"After the devastating events of Avengers: Infinity War (2018), the universe is in ruins. With the help of remaining allies, the Avengers assemble once more in order to reverse Thanos' actions and restore balance to the universe.\", 'An up-and-coming CIA analyst, Jack Ryan, is thrust into a dangerous field assignment as he uncovers a pattern in terrorist communication that launches him into the center of a dangerous gambit.', \"In a continuation of Full House (1987), D.J. Fuller is a mother of three young boys and is a recent widow. D.J.'s sister Stephanie, her best friend Kimmy and Kimmy's teenage daughter all move in to help raise her sons. The house is now a lot fuller.\", 'A grumpy Grinch plots to ruin Christmas for the village of Whoville.', 'Rambo must confront his past and unearth his ruthless combat skills to exact revenge in a final mission.', \"Lucifer Morningstar has decided he's had enough of being the dutiful servant in Hell and decides to spend some time on Earth to better understand humanity. He settles in Los Angeles - the City of Angels.\", \"Starting over isn't easy, especially for John Nolan who, after a life-altering incident, is pursuing his dream of joining the LAPD. As their oldest rookie, he's met with skepticism from those who see him as just a walking midlife crisis.\", \"A young boy in Hitler's army finds out his mother is hiding a Jewish girl in their home.\", 'Rey develops her newly discovered abilities with the guidance of Luke Skywalker, who is unsettled by the strength of her powers. Meanwhile, the Resistance prepares for battle with the First Order.', \"An anthology series exploring a twisted, high-tech multiverse where humanity's greatest innovations and darkest instincts collide.\", 'After splitting with the Joker, Harley Quinn joins superheroes Black Canary, Huntress and Renee Montoya to save a young girl from an evil crime lord.', \"A high school chemistry teacher diagnosed with inoperable lung cancer turns to manufacturing and selling methamphetamine in order to secure his family's future.\", 'Based on the true story of a real-life friendship between Fred Rogers and journalist Tom Junod.', \"A young Chinese maiden disguises herself as a male warrior in order to save her father. A live-action feature film based on Disney's 'Mulan.'\", 'Time-travelling rogue Rip Hunter has to recruit a rag-tag team of heroes and villains to help prevent an apocalypse that could impact not only Earth, but all of time.', 'In a dystopian America dominated by Nazi Germany and Imperial Japan, a young woman discovers a mysterious film that may hold the key to toppling the totalitarian regimes.', 'A group of unique robbers assault the Factory of Moneda and Timbre to carry out the most perfect robbery in the history of Spain and take home 2.4 billion euros.', 'After discovering he is a human, a man raised as an elf at the North Pole decides to travel to New York City to locate his real father.', 'A corporate defense attorney takes on an environmental lawsuit against a chemical company that exposes a lengthy history of pollution.', 'Hal, wayward prince and heir to the English throne, is crowned King Henry V after his tyrannical father dies. Now the young king must navigate palace politics, the war his father left behind, and the emotional strings of his past life.', 'An anthology series centering on different characters and locations, including a house with a murderous past, an insane asylum, a witch coven, a freak show circus, a haunted hotel, a possessed farmhouse, a cult, the apocalypse, and a slasher summer camp.', \"When a young systems engineer blows the whistle on a dangerous technology, Charlie's Angels are called into action, putting their lives on the line to protect us all.\", \"Idealistic Senate staffer Daniel J. Jones, tasked by his boss to lead an investigation into the CIA's post 9/11 Detention and Interrogation Program, uncovers shocking secrets.\", 'The Special Victims Unit, a specially trained squad of detectives in the NYPD, investigate sexually related crimes.', 'The Austrian Blessed Franz Jägerstätter, a conscientious objector, refuses to fight for the Nazis in World War II.', \"A couple travels to Sweden to visit a rural hometown's fabled mid-summer festival. What begins as an idyllic retreat quickly devolves into an increasingly violent and bizarre competition at the hands of a pagan cult.\", \"The constant comments on single life of 30 year old Johanne and society's expectations of the perfect family Christmas finally gets to her. Johanne starts a 24 day hunt for a partner to bring home for Christmas.\", 'Legendary performer Judy Garland (Renée Zellweger) arrives in London in the winter of 1968 to perform a series of sold-out concerts.', 'While navigating the troubled waters of romance, school and family, Archie and his gang become entangled in dark Riverdale mysteries.', 'Three former parapsychology professors set up shop as a unique ghost removal service.']\n",
      "[nan, 'Martin Scorsese', 'Noah Baumbach', 'Patty Jenkins', 'Michael Bay', 'Jason Reitman', 'Rian Johnson', 'J.J. Abrams', 'Jake Kasdan', nan, nan, nan, 'Quentin Tarantino', nan, 'Shawn Levy', nan, nan, nan, nan, 'Directors:Chris Buck, Jennifer Lee', nan, 'Todd Phillips', 'James Gray', nan, 'Jay Roach', nan, 'Clint Eastwood', nan, 'Mike Flanagan', nan, 'Tom Hooper', 'Cary Joji Fukunaga', 'Bong Joon Ho', 'Greta Gerwig', nan, nan, nan, 'Lorene Scafaria', 'James Mangold', nan, 'Sophia Takal', 'Sam Mendes', nan, nan, 'Chris Columbus', 'Jeff Chan', nan, 'Directors:Benny Safdie, Josh Safdie', 'Jon M. Chu', 'Richard Curtis', 'Directors:Sergio Pablos, Carlos Martínez López', nan, nan, nan, nan, 'Jeremiah S. Chechik', 'Directors:Matt Bettinelli-Olpin, Tyler Gillett', nan, nan, 'Andy Muschietti', 'Paul Feig', nan, 'Jake Kasdan', nan, nan, 'Cate Shortland', nan, nan, nan, nan, 'Directors:Anthony Russo, Joe Russo', nan, nan, 'Directors:Yarrow Cheney, Scott Mosier', 'Adrian Grunberg', nan, nan, 'Taika Waititi', 'Rian Johnson', nan, 'Cathy Yan', nan, 'Marielle Heller', 'Niki Caro', nan, nan, nan, 'Jon Favreau', 'Todd Haynes', 'David Michôd', nan, 'Elizabeth Banks', 'Scott Z. Burns', nan, 'Terrence Malick', 'Ari Aster', nan, 'Rupert Goold', nan, 'Ivan Reitman']\n",
      "[['Stars:Pedro Pascal', 'Carl Weathers', 'Werner Herzog', 'Nick Nolte'], ['Robert De Niro', 'Al Pacino', 'Joe Pesci', 'Harvey Keitel'], ['Adam Driver', 'Scarlett Johansson', 'Julia Greer', 'Azhy Robertson'], ['Pedro Pascal', 'Gal Gadot', 'Kristen Wiig', 'Connie Nielsen'], ['Ryan Reynolds', 'Mélanie Laurent', 'Manuel Garcia-Rulfo', 'Ben Hardy'], ['Mckenna Grace', 'Carrie Coon', 'Finn Wolfhard', 'Paul Rudd'], ['Daniel Craig', 'Chris Evans', 'Ana de Armas', 'Jamie Lee Curtis'], ['Carrie Fisher', 'Mark Hamill', 'Adam Driver', 'Daisy Ridley'], ['Dwayne Johnson', 'Jack Black', 'Kevin Hart', 'Karen Gillan'], ['Stars:Ian Somerhalder', 'Adrian Holmes', 'Jacky Lai', 'Kyle Breitkopf'], ['Stars:Rachel Brosnahan', 'Michael Zegen', 'Marin Hinkle', 'Tony Shalhoub'], ['Stars:Regina King', 'Yahya Abdul-Mateen II', 'Tom Mison', 'Sara Vickers'], ['Leonardo DiCaprio', 'Brad Pitt', 'Margot Robbie', 'Emile Hirsch'], ['Stars:Benjamin Hollingsworth', 'Grayson Maxwell Gurnsey', 'Martin Henderson', 'Alexandra Breckenridge'], ['Ryan Reynolds', 'Jodie Comer', 'Taika Waititi', 'Joe Keery'], ['Stars:Henry Cavill', 'Freya Allan', 'Joey Batey', 'MyAnna Buring'], ['Stars:Dafne Keen', 'Kit Connor', 'Amir Wilson', 'Andrew Scott'], ['Stars:Katheryn Winnick', 'Gustaf Skarsgård', 'Alexander Ludwig', 'Georgia Hirst'], ['Stars:Claire Foy', 'Olivia Colman', 'Matt Smith', 'Tobias Menzies'], ['Kristen Bell', 'Idina Menzel', 'Josh Gad', 'Jonathan Groff'], ['Stars:Justin Roiland', 'Chris Parnell', 'Spencer Grammer', 'Sarah Chalke'], ['Joaquin Phoenix', 'Robert De Niro', 'Zazie Beetz', 'Frances Conroy'], ['Brad Pitt', 'Tommy Lee Jones', 'Ruth Negga', 'Donald Sutherland'], ['Stars:Jason Momoa', 'Sylvia Hoeks', 'Hera Hilmar', 'Christian Camargo'], ['Charlize Theron', 'Nicole Kidman', 'Margot Robbie', 'John Lithgow'], ['Stars:Stephen Amell', 'Katie Cassidy', 'David Ramsey', 'Susanna Thompson'], ['Paul Walter Hauser', 'Sam Rockwell', 'Brandon Stanley', 'Ryan Boz'], ['Stars:Rami Malek', 'Christian Slater', 'Carly Chaikin', 'Martin Wallström'], ['Ewan McGregor', 'Rebecca Ferguson', 'Kyliegh Curran', 'Cliff Curtis'], ['Stars:Abigail Spencer', 'Rodrigo Santoro', 'Mena Massoud', 'Madison Davenport'], ['Taylor Swift', 'Francesca Hayward', 'Idris Elba', 'Judi Dench'], ['Ana de Armas', 'Daniel Craig', 'Léa Seydoux', 'Billy Magnussen'], ['Kang-ho Song', 'Sun-kyun Lee', 'Yeo-jeong Jo', 'Woo-sik Choi'], ['Saoirse Ronan', 'Emma Watson', 'Timothée Chalamet', 'Florence Pugh'], ['Stars:Steven Strait', 'Cas Anvar', 'Dominique Tipper', 'Wes Chatham'], ['Stars:Grant Gustin', 'Candice Patton', 'Danielle Panabaker', 'Carlos Valdes'], ['Stars:Melissa Benoist', 'Chyler Leigh', 'David Harewood', 'Mehcad Brooks'], ['Constance Wu', 'Jennifer Lopez', 'Julia Stiles', 'Mette Towley'], ['Matt Damon', 'Christian Bale', 'Jon Bernthal', 'Caitriona Balfe'], ['Stars:Emilia Clarke', 'Peter Dinklage', 'Kit Harington', 'Lena Headey'], ['Imogen Poots', 'Aleyse Shannon', 'Lily Donoghue', \"Brittany O'Grady\"], ['Andrew Scott', 'Benedict Cumberbatch', 'Richard Madden', 'Colin Firth'], ['Stars:Ruby Rose', 'Camrus Johnson', 'Rachel Skarsten', 'Meagan Tandy'], ['Stars:Thomas Middleditch', 'T.J. Miller', 'Josh Brener', 'Martin Starr'], ['Macaulay Culkin', 'Joe Pesci', 'Daniel Stern', 'John Heard'], ['Stephen Amell', 'Greg Bryk', 'Robbie Amell', 'Peter Outerbridge'], ['Stars:Cillian Murphy', 'Paul Anderson', 'Helen McCrory', 'Sophie Rundle'], ['Adam Sandler', 'Julia Fox', 'Kevin Garnett', 'The Weeknd'], ['Corey Hawkins', 'Lin-Manuel Miranda', 'Anthony Ramos', 'Stephanie Beatriz'], ['Hugh Grant', 'Martine McCutcheon', 'Liam Neeson', 'Laura Linney'], ['Jason Schwartzman', 'J.K. Simmons', 'Rashida Jones', 'Will Sasso'], ['Stars:Jennifer Aniston', 'Reese Witherspoon', 'Billy Crudup', 'Mark Duplass'], ['Stars:Jared Padalecki', 'Jensen Ackles', 'Jim Beaver', 'Misha Collins'], ['Stars:Andrew Lincoln', 'Norman Reedus', 'Melissa McBride', 'Danai Gurira'], ['Stars:Karl Urban', 'Jack Quaid', 'Antony Starr', 'Erin Moriarty'], ['Chevy Chase', \"Beverly D'Angelo\", 'Juliette Lewis', 'Johnny Galecki'], ['Samara Weaving', 'Adam Brody', \"Mark O'Brien\", 'Henry Czerny'], ['Stars:Emmy Rossum', 'William H. Macy', 'Ethan Cutkosky', 'Jeremy Allen White'], ['Stars:James Spader', 'Megan Boone', 'Diego Klattenhoff', 'Ryan Eggold'], ['Jessica Chastain', 'James McAvoy', 'Bill Hader', 'Isaiah Mustafa'], ['Madison Ingoldsby', 'Emma Thompson', 'Boris Isakovic', 'Lucy Miller'], ['Stars:Jennifer Aniston', 'Courteney Cox', 'Lisa Kudrow', 'Matt LeBlanc'], ['Dwayne Johnson', 'Karen Gillan', 'Kevin Hart', 'Jack Black'], ['Stars:Ellen Pompeo', 'Justin Chambers', 'Chandra Wilson', 'James Pickens Jr.'], ['Stars:Steve Carell', 'Jenna Fischer', 'John Krasinski', 'Rainn Wilson'], ['Scarlett Johansson', 'Florence Pugh', 'Robert Downey Jr.', 'Rachel Weisz'], ['Stars:Lauren Ambrose', 'Toby Kebbell', 'Nell Tiger Free', 'Rupert Grint'], ['Stars:Caitriona Balfe', 'Sam Heughan', 'Duncan Lacroix', 'Tobias Menzies'], ['Stars:Bill Skarsgård', 'André Holland', 'Melanie Lynskey', 'Jane Levy'], ['Stars:Millie Bobby Brown', 'Finn Wolfhard', 'Winona Ryder', 'Caleb McLaughlin'], ['Robert Downey Jr.', 'Chris Evans', 'Mark Ruffalo', 'Chris Hemsworth'], ['Stars:John Krasinski', 'Wendell Pierce', 'John Hoogenakker', 'Abbie Cornish'], ['Stars:Candace Cameron Bure', 'Jodie Sweetin', 'Andrea Barber', 'Michael Campion'], ['Benedict Cumberbatch', 'Cameron Seely', 'Rashida Jones', 'Pharrell Williams'], ['Sylvester Stallone', 'Paz Vega', 'Sergio Peris-Mencheta', 'Adriana Barraza'], ['Stars:Tom Ellis', 'Lauren German', 'Kevin Alejandro', 'Lesley-Ann Brandt'], ['Stars:Nathan Fillion', 'Alyssa Diaz', 'Richard T. Jones', 'Titus Makin Jr.'], ['Roman Griffin Davis', 'Thomasin McKenzie', 'Scarlett Johansson', 'Taika Waititi'], ['Daisy Ridley', 'John Boyega', 'Mark Hamill', 'Carrie Fisher'], ['Stars:Daniel Lapaine', 'Hannah John-Kamen', 'Michaela Coel', 'Beatrice Robertson-Jones'], ['Margot Robbie', 'Mary Elizabeth Winstead', 'Ewan McGregor', 'Jurnee Smollett-Bell'], ['Stars:Bryan Cranston', 'Aaron Paul', 'Anna Gunn', 'Betsy Brandt'], ['Tom Hanks', 'Matthew Rhys', 'Chris Cooper', 'Susan Kelechi Watson'], ['Yifei Liu', 'Donnie Yen', 'Jet Li', 'Li Gong'], ['Stars:Caity Lotz', 'Brandon Routh', 'Amy Louise Pemberton', 'Dominic Purcell'], ['Stars:Alexa Davalos', 'Luke Kleintank', 'Rufus Sewell', 'Rupert Evans'], ['Stars:Úrsula Corberó', 'Itziar Ituño', 'Álvaro Morte', 'Pedro Alonso'], ['Will Ferrell', 'James Caan', 'Bob Newhart', 'Zooey Deschanel'], ['Anne Hathaway', 'Mark Ruffalo', 'Tim Robbins', 'Bill Pullman'], ['Tom Glynn-Carney', 'Gábor Czap', 'Tom Fisher', 'Edward Ashley'], ['Stars:Lady Gaga', 'Kathy Bates', 'Angela Bassett', 'Sarah Paulson'], ['Kristen Stewart', 'Naomi Scott', 'Ella Balinska', 'Elizabeth Banks'], ['Adam Driver', 'Annette Bening', 'Jon Hamm', 'Ted Levine'], ['Stars:Mariska Hargitay', 'Christopher Meloni', 'Ice-T', 'Dann Florek'], ['August Diehl', 'Valerie Pachner', 'Maria Simon', 'Karin Neuhäuser'], ['Florence Pugh', 'Jack Reynor', 'Vilhelm Blomgren', 'William Jackson Harper'], ['Stars:Ida Elise Broch', 'Arthur Hakalahti', 'Gabrielle Leithaug', 'Mads Sjøgård Pettersen'], ['Renée Zellweger', 'Rufus Sewell', 'Jessie Buckley', 'Finn Wittrock'], ['Stars:K.J. Apa', 'Lili Reinhart', 'Camila Mendes', 'Cole Sprouse'], ['Bill Murray', 'Dan Aykroyd', 'Sigourney Weaver', 'Harold Ramis']]\n",
      "['62,239', '139,681', '59,969', nan, '42,635', nan, '60,984', '30,356', '22,513', '5,503', '54,516', '37,953', '283,743', '2,738', nan, '72', '15,165', '363,203', '96,764', '37,597', '307,467', '529,613', '97,406', '21,047', '1,016', '390,260', '2,674', '295,113', '42,794', '1,088', '245', nan, '102,598', '867', '78,830', '287,482', '102,637', '33,540', '61,244', '1,614,739', '2,938', '1,084', '19,785', '111,562', '424,805', '3,681', '246,717', '3,265', nan, '396,737', '27,319', '12,064', '363,387', '809,168', '112,688', '139,192', '43,477', '180,072', '169,622', '134,200', '15,085', '722,030', '267,237', '223,155', '326,203', nan, '2,830', '100,164', '30,846', '686,467', '622,017', '68,689', '22,291', '37,459', '41,379', '174,821', '13,365', '16,242', '492,971', '366,953', nan, '1,289,154', '8,588', nan, '84,313', '73,437', '178,221', '198,661', '2,839', '50,530', '259,647', '15,637', '9,738', '72,318', '1,701', '88,389', '2,284', '8,069', '98,678', '333,998']\n",
      "[nan, nan, nan, nan, nan, nan, nan, nan, nan, nan, nan, nan, '$135.37M', nan, nan, nan, nan, nan, nan, nan, nan, '$192.73M', '$35.40M', nan, nan, nan, nan, nan, nan, nan, nan, nan, nan, nan, nan, nan, nan, '$80.55M', nan, nan, nan, nan, nan, nan, '$285.76M', nan, nan, nan, nan, '$59.70M', nan, nan, nan, nan, nan, '$71.32M', '$26.74M', nan, nan, '$193.77M', nan, nan, '$404.52M', nan, nan, nan, nan, nan, nan, nan, '$858.37M', nan, nan, '$270.62M', '$18.87M', nan, nan, '$0.35M', '$620.18M', nan, nan, nan, nan, nan, nan, nan, nan, '$173.40M', nan, nan, nan, nan, nan, nan, nan, '$27.33M', nan, nan, nan, '$238.63M']\n"
     ]
    }
   ],
   "source": [
    "\n",
    "if __name__ == '__main__':\n",
    "    site1 = IMDB(url1)\n",
    "    print(\"Subject: \", site1.articleTitle())\n",
    "    data = site1.movieData()\n",
    "    for i in range(len(data)):\n",
    "        print(data[i][:]) #Print the data"
   ]
  },
  {
   "cell_type": "code",
   "execution_count": null,
   "metadata": {},
   "outputs": [],
   "source": []
  }
 ],
 "metadata": {
  "kernelspec": {
   "display_name": "Python 3",
   "language": "python",
   "name": "python3"
  },
  "language_info": {
   "codemirror_mode": {
    "name": "ipython",
    "version": 3
   },
   "file_extension": ".py",
   "mimetype": "text/x-python",
   "name": "python",
   "nbconvert_exporter": "python",
   "pygments_lexer": "ipython3",
   "version": "3.6.8"
  }
 },
 "nbformat": 4,
 "nbformat_minor": 2
}
